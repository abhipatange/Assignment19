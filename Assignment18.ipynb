{
 "cells": [
  {
   "cell_type": "code",
   "execution_count": null,
   "id": "fa29f6f1-1f9e-47c5-af2a-5686eaf045f7",
   "metadata": {},
   "outputs": [],
   "source": [
    "Q1. What is meant by time-dependent seasonal components?"
   ]
  },
  {
   "cell_type": "code",
   "execution_count": null,
   "id": "0cfcbd3b-6f85-41b1-a722-6fec170fe726",
   "metadata": {},
   "outputs": [],
   "source": [
    "Ans = A seasonal effect is a systematic and calendar related effect. \n",
    "Some examples include the sharp escalation in most Retail series which occurs around December in\n",
    "response to the Christmas period, or an increase in water consumption in summer due to warmer weather."
   ]
  },
  {
   "cell_type": "code",
   "execution_count": null,
   "id": "33b4672e-2e7b-4255-b78c-caccd185d5ae",
   "metadata": {},
   "outputs": [],
   "source": []
  },
  {
   "cell_type": "code",
   "execution_count": null,
   "id": "3305af92-c6b3-4594-93cd-628935f08bc0",
   "metadata": {},
   "outputs": [],
   "source": [
    "Q2. How can time-dependent seasonal components be identified in time series data?"
   ]
  },
  {
   "cell_type": "code",
   "execution_count": null,
   "id": "e444faf7-7404-467e-9e35-08337cb6d1c0",
   "metadata": {},
   "outputs": [],
   "source": [
    "Ans= We can use the ACF to determine if seasonality is present in a time series.\n",
    "For example, Yt = γ · St + ϵt. The larger the amplitude of seasonal fluctuations, \n",
    "the more pronounced the oscillations are in the ACF."
   ]
  },
  {
   "cell_type": "code",
   "execution_count": null,
   "id": "61c0371b-8b9e-45e0-9121-494886b64791",
   "metadata": {},
   "outputs": [],
   "source": []
  },
  {
   "cell_type": "code",
   "execution_count": null,
   "id": "c02ff2d3-323c-440b-aa68-80e0c69b36f1",
   "metadata": {},
   "outputs": [],
   "source": [
    "Q3. What are the factors that can influence time-dependent seasonal components?"
   ]
  },
  {
   "cell_type": "code",
   "execution_count": null,
   "id": "43b51a5c-119d-4ba2-90e3-a5518c392967",
   "metadata": {},
   "outputs": [],
   "source": [
    "Ans = An observed time series can be decomposed into three components: \n",
    "    the trend (long term direction), the seasonal (systematic, calendar related movements)\n",
    "    and the irregular (unsystematic, short term fluctuations)."
   ]
  },
  {
   "cell_type": "code",
   "execution_count": null,
   "id": "a98041e6-fce2-417b-a972-6b0b072175b1",
   "metadata": {},
   "outputs": [],
   "source": []
  },
  {
   "cell_type": "code",
   "execution_count": null,
   "id": "995e726a-32f3-43b5-95b7-bf696fd6b034",
   "metadata": {},
   "outputs": [],
   "source": [
    "Q4. How are autoregression models used in time series analysis and forecasting?"
   ]
  },
  {
   "cell_type": "code",
   "execution_count": null,
   "id": "0b1d5487-f24e-4df1-b85a-154ff7cefd66",
   "metadata": {},
   "outputs": [],
   "source": [
    "Ans = Autoregression is a time series model that uses observations from previous time steps as\n",
    "input to a regression equation to predict the value at the next time step.\n",
    "It is a very simple idea that can result in accurate forecasts on a range of time series problems."
   ]
  },
  {
   "cell_type": "code",
   "execution_count": null,
   "id": "cde86b9c-453b-4678-ba76-9ee788989965",
   "metadata": {},
   "outputs": [],
   "source": []
  },
  {
   "cell_type": "code",
   "execution_count": null,
   "id": "9518c6bf-a84b-4a3d-917d-a2c3008c6e6c",
   "metadata": {},
   "outputs": [],
   "source": [
    "Q5. How do you use autoregression models to make predictions for future time points?"
   ]
  },
  {
   "cell_type": "code",
   "execution_count": null,
   "id": "a28b5ca8-979b-49a5-aa1b-54054fcbddad",
   "metadata": {},
   "outputs": [],
   "source": [
    "Ans = An autoregressive (AR) model forecasts future behavior based on past behavior data. \n",
    "This type of analysis is used when there is a correlation between the time series values and \n",
    "their preceding and succeeding values.\n",
    "Autoregressive modeling uses only past data to predict future behavior."
   ]
  },
  {
   "cell_type": "code",
   "execution_count": null,
   "id": "faacc359-339e-4214-90b8-7e85a8c3d6ea",
   "metadata": {},
   "outputs": [],
   "source": []
  },
  {
   "cell_type": "code",
   "execution_count": null,
   "id": "8fac0dfb-dd32-49ea-913d-743f6def7633",
   "metadata": {},
   "outputs": [],
   "source": [
    "Q6. What is a moving average (MA) model and how does it differ from other time series models?"
   ]
  },
  {
   "cell_type": "code",
   "execution_count": null,
   "id": "bd6c861b-1939-4a1c-918a-515b9780096c",
   "metadata": {},
   "outputs": [],
   "source": [
    "Ans = The moving average model is a time series model that accounts for very short-run autocorrelation.\n",
    "It basically states that the next observation is the mean of every past observation.\n",
    "The order of the moving average model, q,\n",
    "can usually be estimated by looking at the ACF plot of the time series."
   ]
  },
  {
   "cell_type": "code",
   "execution_count": null,
   "id": "9f09aeef-9b5a-4e39-b13a-991112dea11d",
   "metadata": {},
   "outputs": [],
   "source": []
  },
  {
   "cell_type": "code",
   "execution_count": null,
   "id": "95c921d8-568c-4ea1-842a-e3f76e3e89a7",
   "metadata": {},
   "outputs": [],
   "source": [
    "Q7. What is a mixed ARMA model and how does it differ from an AR or MA model?"
   ]
  },
  {
   "cell_type": "code",
   "execution_count": null,
   "id": "684680d4-d725-4f96-bd13-f577cd02d2d1",
   "metadata": {},
   "outputs": [],
   "source": [
    "Ans = ARMA is the combination of the AR and MA models.\n",
    "ARMA models cover both aspects of AR and MA.\n",
    "The ARMA model predicts the future values based on both the previous values and errors. \n",
    "Thus ARMA has better performance than AR and MA models alone."
   ]
  },
  {
   "cell_type": "code",
   "execution_count": null,
   "id": "49a05393-be0b-497f-948d-3bd97514f616",
   "metadata": {},
   "outputs": [],
   "source": []
  }
 ],
 "metadata": {
  "kernelspec": {
   "display_name": "Python 3 (ipykernel)",
   "language": "python",
   "name": "python3"
  },
  "language_info": {
   "codemirror_mode": {
    "name": "ipython",
    "version": 3
   },
   "file_extension": ".py",
   "mimetype": "text/x-python",
   "name": "python",
   "nbconvert_exporter": "python",
   "pygments_lexer": "ipython3",
   "version": "3.10.8"
  }
 },
 "nbformat": 4,
 "nbformat_minor": 5
}
